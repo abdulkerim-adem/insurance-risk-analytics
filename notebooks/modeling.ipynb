{
 "cells": [
  {
   "cell_type": "markdown",
   "id": "ee402e3e",
   "metadata": {},
   "source": [
    "# Task 4: Predictive Modeling & Interpretability\n",
    "\n",
    "This notebook builds two models:\n",
    "1. Claim Severity Model – Predict `TotalClaims` (regression).\n",
    "2. Claim Probability Model – Predict whether a policyholder will make a claim (classification)."
   ]
  },
  {
   "cell_type": "code",
   "execution_count": null,
   "id": "a1d5ed7f",
   "metadata": {},
   "outputs": [],
   "source": [
    "import pandas as pd\n",
    "import numpy as np\n",
    "\n",
    "# Load data\n",
    "df = pd.read_csv('data/raw/MachineLearningRating_v3.txt', sep='|', parse_dates=['TransactionMonth'])\n",
    "\n",
    "# Derived columns\n",
    "df['LossRatio'] = np.where(df['TotalPremium'] > 0, df['TotalClaims'] / df['TotalPremium'], np.nan)\n",
    "df['Margin'] = df['TotalPremium'] - df['TotalClaims']\n",
    "df['HasClaim'] = (df['TotalClaims'] > 0).astype(int)"
   ]
  },
  {
   "cell_type": "markdown",
   "id": "9de7089f",
   "metadata": {},
   "source": [
    "## OOP-Based Model Class"
   ]
  },
  {
   "cell_type": "code",
   "execution_count": null,
   "id": "fb14049a",
   "metadata": {},
   "outputs": [],
   "source": [
    "from sklearn.pipeline import Pipeline\n",
    "from sklearn.impute import SimpleImputer\n",
    "from sklearn.preprocessing import OneHotEncoder\n",
    "from sklearn.compose import ColumnTransformer\n",
    "from sklearn.model_selection import train_test_split\n",
    "from sklearn.ensemble import RandomForestRegressor, RandomForestClassifier\n",
    "from sklearn.metrics import mean_squared_error, r2_score, roc_auc_score, classification_report\n",
    "\n",
    "class ClaimModel:\n",
    "    def __init__(self, df, features, target, model_type='regression'):\n",
    "        self.df = df.copy()\n",
    "        self.features = features\n",
    "        self.target = target\n",
    "        self.model_type = model_type\n",
    "        self.pipeline = None\n",
    "        self.X_train, self.X_test, self.y_train, self.y_test = None, None, None, None\n",
    "        self.cat_features = [col for col in features if self.df[col].dtype == 'object']\n",
    "        self.num_features = [col for col in features if col not in self.cat_features]\n",
    "\n",
    "    def prepare(self):\n",
    "        data = self.df[self.features + [self.target]].dropna()\n",
    "        X = data[self.features]\n",
    "        y = data[self.target]\n",
    "        self.X_train, self.X_test, self.y_train, self.y_test = train_test_split(X, y, test_size=0.2, random_state=42)\n",
    "\n",
    "    def build(self):\n",
    "        num_pipeline = Pipeline([\n",
    "            ('imputer', SimpleImputer(strategy='median'))\n",
    "        ])\n",
    "        cat_pipeline = Pipeline([\n",
    "            ('imputer', SimpleImputer(strategy='constant', fill_value='Unknown')),\n",
    "            ('onehot', OneHotEncoder(handle_unknown='ignore'))\n",
    "        ])\n",
    "        preprocessor = ColumnTransformer([\n",
    "            ('num', num_pipeline, self.num_features),\n",
    "            ('cat', cat_pipeline, self.cat_features)\n",
    "        ])\n",
    "        model = RandomForestRegressor() if self.model_type == 'regression' else RandomForestClassifier()\n",
    "        self.pipeline = Pipeline([\n",
    "            ('preprocessor', preprocessor),\n",
    "            ('model', model)\n",
    "        ])\n",
    "\n",
    "    def train(self):\n",
    "        self.pipeline.fit(self.X_train, self.y_train)\n",
    "\n",
    "    def evaluate(self):\n",
    "        y_pred = self.pipeline.predict(self.X_test)\n",
    "        if self.model_type == 'regression':\n",
    "            print(f'RMSE: {mean_squared_error(self.y_test, y_pred, squared=False):.2f}')\n",
    "            print(f'R2: {r2_score(self.y_test, y_pred):.3f}')\n",
    "        else:\n",
    "            print(f'ROC AUC: {roc_auc_score(self.y_test, y_pred):.3f}')\n",
    "            print(classification_report(self.y_test, y_pred))"
   ]
  },
  {
   "cell_type": "markdown",
   "id": "177f369a",
   "metadata": {},
   "source": [
    "## Model 1: Claim Severity Regression"
   ]
  },
  {
   "cell_type": "code",
   "execution_count": null,
   "id": "b03e77b2",
   "metadata": {},
   "outputs": [],
   "source": [
    "df['VehicleAge'] = 2015 - df['RegistrationYear']\n",
    "df_severity = df[df['HasClaim'] == 1].copy()\n",
    "\n",
    "features_sev = ['VehicleAge', 'Cubiccapacity', 'Kilowatts', 'NumberOfDoors',\n",
    "               'Province', 'VehicleType', 'Gender', 'CustomValueEstimate']\n",
    "target_sev = 'TotalClaims'\n",
    "\n",
    "model_sev = ClaimModel(df_severity, features_sev, target_sev, model_type='regression')\n",
    "model_sev.prepare()\n",
    "model_sev.build()\n",
    "model_sev.train()\n",
    "model_sev.evaluate()"
   ]
  },
  {
   "cell_type": "markdown",
   "id": "23f6eb3a",
   "metadata": {},
   "source": [
    "## Model 2: Claim Probability Classification"
   ]
  },
  {
   "cell_type": "code",
   "execution_count": null,
   "id": "1f469ea0",
   "metadata": {},
   "outputs": [],
   "source": [
    "features_prob = ['VehicleAge', 'Cubiccapacity', 'Kilowatts', 'NumberOfDoors',\n",
    "                 'Province', 'VehicleType', 'Gender', 'CustomValueEstimate']\n",
    "target_prob = 'HasClaim'\n",
    "\n",
    "model_prob = ClaimModel(df, features_prob, target_prob, model_type='classification')\n",
    "model_prob.prepare()\n",
    "model_prob.build()\n",
    "model_prob.train()\n",
    "model_prob.evaluate()"
   ]
  }
 ],
 "metadata": {},
 "nbformat": 4,
 "nbformat_minor": 5
}
