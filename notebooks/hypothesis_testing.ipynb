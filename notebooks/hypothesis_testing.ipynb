{
 "cells": [
  {
   "metadata": {},
   "cell_type": "markdown",
   "source": [
    "# Task 3: Hypothesis Testing\n",
    "\n",
    "This notebook performs A/B testing to assess whether significant risk differences exist across customer segments such as provinces, postal codes, and genders.\n",
    "\n",
    "**Goals**:\n",
    "- Validate or reject predefined hypotheses using statistical tests.\n",
    "- Focus on metrics: Claim Frequency, Loss Ratio, Margin, Claim Severity.\n",
    "- Use t-test, Mann-Whitney, and Chi-squared tests as appropriate."
   ],
   "id": "d99ff34fe090b543"
  },
  {
   "metadata": {},
   "cell_type": "markdown",
   "source": "### Load Data",
   "id": "2f954aaffeb6e875"
  },
  {
   "metadata": {},
   "cell_type": "code",
   "source": [
    "import pandas as pd\n",
    "import numpy as np\n",
    "\n",
    "# Load the cleaned DataFrame from EDA (or re-run EDA if needed)\n",
    "df = pd.read_csv(\"../data/raw/MachineLearningRating_v3.txt\", sep='|',parse_dates=['TransactionMonth'])\n",
    "\n",
    "# Derived metrics\n",
    "df['LossRatio'] = np.where(df['TotalPremium'] > 0, df['TotalClaims'] / df['TotalPremium'], np.nan)\n",
    "df['Margin'] = df['TotalPremium'] - df['TotalClaims']\n",
    "df['HasClaim'] = (df['TotalClaims'] > 0).astype(int)\n",
    "\n",
    "# View sample\n",
    "df[['Province', 'Gender', 'LossRatio', 'Margin', 'HasClaim']].head()"
   ],
   "id": "af5a9116d52be275",
   "outputs": [],
   "execution_count": null
  },
  {
   "metadata": {},
   "cell_type": "markdown",
   "source": [
    "## Step 1: Hypothesis H1 – Risk Differences Across Provinces\n",
    "\n",
    "- **Null Hypothesis (H1)**: No difference in average Loss Ratio across provinces.\n",
    "- **Metric**: LossRatio (continuous).\n",
    "- **Test**: T-test or ANOVA (if more than two provinces)."
   ],
   "id": "b99ae74aafba314"
  },
  {
   "metadata": {},
   "cell_type": "code",
   "source": [
    "# Group counts\n",
    "province_counts = df['Province'].value_counts()\n",
    "print(province_counts)\n",
    "\n",
    "# Filter provinces with at least 30 policies\n",
    "valid_provinces = province_counts[province_counts >= 30].index.tolist()\n",
    "df_province = df[df['Province'].isin(valid_provinces)]\n",
    "\n",
    "print(\"Filtered provinces:\", valid_provinces)"
   ],
   "id": "c05194f50a67078c",
   "outputs": [],
   "execution_count": null
  },
  {
   "metadata": {},
   "cell_type": "markdown",
   "source": "### Visualize Group Differences",
   "id": "507c399550f565fd"
  },
  {
   "metadata": {},
   "cell_type": "code",
   "source": [
    "import matplotlib.pyplot as plt\n",
    "\n",
    "# Mean LossRatio per province\n",
    "loss_by_province = df_province.groupby('Province')['LossRatio'].mean().sort_values(ascending=False)\n",
    "\n",
    "# Bar plot\n",
    "plt.figure(figsize=(8, 4))\n",
    "loss_by_province.plot(kind='bar', color='coral', edgecolor='black')\n",
    "plt.title('Mean Loss Ratio by Province')\n",
    "plt.ylabel('Mean Loss Ratio')\n",
    "plt.xticks(rotation=45)\n",
    "plt.tight_layout()\n",
    "plt.show()"
   ],
   "id": "3c28326a400baaed",
   "outputs": [],
   "execution_count": null
  },
  {
   "metadata": {},
   "cell_type": "markdown",
   "source": "### Check Normality and Run Anova Test",
   "id": "d4c3ca7dd2f5fca5"
  },
  {
   "metadata": {},
   "cell_type": "code",
   "source": [
    "from scipy.stats import f_oneway\n",
    "\n",
    "# Group LossRatio arrays\n",
    "groups = [group['LossRatio'].dropna() for name, group in df_province.groupby('Province') if len(group) >= 30]\n",
    "\n",
    "# Run ANOVA (1-way)\n",
    "stat, p_value = f_oneway(*groups)\n",
    "print(f\"ANOVA result: F-stat = {stat:.3f}, p-value = {p_value:.4f}\")\n",
    "\n",
    "if p_value < 0.05:\n",
    "    print(\"✅ Reject null hypothesis: significant difference in LossRatio across provinces.\")\n",
    "else:\n",
    "    print(\"❌ Fail to reject null hypothesis: no significant difference found.\")"
   ],
   "id": "729865157f31b35b",
   "outputs": [],
   "execution_count": null
  },
  {
   "metadata": {},
   "cell_type": "markdown",
   "source": [
    "## Step 2: Hypothesis H4 – Risk Differences by Gender\n",
    "\n",
    "### H4a – Claim Frequency\n",
    "- **Null Hypothesis**: Claim frequency is equal for males and females.\n",
    "- **Metric**: HasClaim (binary)\n",
    "- **Test**: Chi-squared test\n",
    "\n",
    "### H4b – Claim Severity\n",
    "- **Null Hypothesis**: Claim severity is equal for males and females.\n",
    "- **Metric**: TotalClaims (for HasClaim == 1)\n",
    "- **Test**: Mann–Whitney U test (non-parametric)"
   ],
   "id": "1ad65765178a6c43"
  },
  {
   "metadata": {},
   "cell_type": "markdown",
   "source": "### Claim Frequency by Gender (Chi-squared)",
   "id": "64521109d76cf696"
  },
  {
   "metadata": {},
   "cell_type": "code",
   "source": [
    "from scipy.stats import chi2_contingency\n",
    "\n",
    "# Build contingency table\n",
    "contingency = pd.crosstab(df['Gender'], df['HasClaim'])\n",
    "print(\"Contingency Table:\\n\", contingency)\n",
    "\n",
    "# Chi-squared test\n",
    "stat, p, dof, expected = chi2_contingency(contingency)\n",
    "\n",
    "print(f\"\\nChi-squared test:\\nChi² = {stat:.3f}, p = {p:.4f}\")\n",
    "if p < 0.05:\n",
    "    print(\"✅ Reject H₀: Claim frequency differs by gender.\")\n",
    "else:\n",
    "    print(\"❌ Fail to reject H₀: No significant difference in claim frequency between genders.\")"
   ],
   "id": "ed30497f222e18ff",
   "outputs": [],
   "execution_count": null
  },
  {
   "metadata": {},
   "cell_type": "markdown",
   "source": "### Claim Severity by Gender (Mann–Whitney)",
   "id": "6d85bddbe78c0837"
  },
  {
   "metadata": {},
   "cell_type": "code",
   "source": [
    "from scipy.stats import mannwhitneyu\n",
    "\n",
    "# Filter to only those who had claims\n",
    "claimants = df[df['HasClaim'] == 1]\n",
    "\n",
    "# Check sample sizes\n",
    "print(claimants['Gender'].value_counts())\n",
    "\n",
    "# Group values\n",
    "male_claims = claimants[claimants['Gender'] == 'Male']['TotalClaims'].dropna()\n",
    "female_claims = claimants[claimants['Gender'] == 'Female']['TotalClaims'].dropna()\n",
    "\n",
    "# Mann–Whitney test\n",
    "stat, p_value = mannwhitneyu(male_claims, female_claims, alternative='two-sided')\n",
    "\n",
    "print(f\"\\nMann–Whitney U test on Claim Severity:\\nU = {stat:.2f}, p = {p_value:.4f}\")\n",
    "if p_value < 0.05:\n",
    "    print(\"✅ Reject H₀: Claim severity differs between genders.\")\n",
    "else:\n",
    "    print(\"❌ Fail to reject H₀: No significant difference in claim severity between genders.\")\n"
   ],
   "id": "7f7defdb58b9b9b6",
   "outputs": [],
   "execution_count": null
  },
  {
   "metadata": {},
   "cell_type": "markdown",
   "source": [
    "### H4a – Claim Frequency (Chi-squared)\n",
    "\n",
    "- **Metric**: HasClaim\n",
    "- **Test**: Chi-squared test\n",
    "- **p-value**: 0.0266\n",
    "- ✅ **Conclusion**: Reject H₀ → Male and female claim frequencies differ.\n",
    "\n",
    "---\n",
    "\n",
    "### H4b – Claim Severity (Mann–Whitney U)\n",
    "\n",
    "- **Metric**: TotalClaims (HasClaim == 1)\n",
    "- **Test**: Mann–Whitney U\n",
    "- **p-value**: 0.2235\n",
    "- ❌ **Conclusion**: Fail to reject H₀ → No strong evidence of difference in claim severity between genders.\n",
    "\n",
    "---\n",
    "\n",
    "**Business Implication**: Gender may influence claim frequency, but not necessarily claim amount. Pricing strategies can account for this, provided it aligns with regulatory fairness.\n"
   ],
   "id": "105fc7a4fa1a9592"
  }
 ],
 "metadata": {
  "kernelspec": {
   "display_name": "Python 3",
   "language": "python",
   "name": "python3"
  },
  "language_info": {
   "codemirror_mode": {
    "name": "ipython",
    "version": 2
   },
   "file_extension": ".py",
   "mimetype": "text/x-python",
   "name": "python",
   "nbconvert_exporter": "python",
   "pygments_lexer": "ipython2",
   "version": "2.7.6"
  }
 },
 "nbformat": 4,
 "nbformat_minor": 5
}
