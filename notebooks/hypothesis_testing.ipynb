{
 "cells": [
  {
   "metadata": {},
   "cell_type": "markdown",
   "source": [
    "# Task 3: Hypothesis Testing\n",
    "\n",
    "This notebook performs A/B testing to assess whether significant risk differences exist across customer segments such as provinces, postal codes, and genders.\n",
    "\n",
    "**Goals**:\n",
    "- Validate or reject predefined hypotheses using statistical tests.\n",
    "- Focus on metrics: Claim Frequency, Loss Ratio, Margin, Claim Severity.\n",
    "- Use t-test, Mann-Whitney, and Chi-squared tests as appropriate."
   ],
   "id": "d99ff34fe090b543"
  },
  {
   "metadata": {},
   "cell_type": "markdown",
   "source": "### Load Data",
   "id": "2f954aaffeb6e875"
  },
  {
   "metadata": {},
   "cell_type": "code",
   "source": [
    "import pandas as pd\n",
    "import numpy as np\n",
    "\n",
    "# Load the cleaned DataFrame from EDA (or re-run EDA if needed)\n",
    "df = pd.read_csv(\"../data/raw/MachineLearningRating_v3.txt\", sep='|',parse_dates=['TransactionMonth'])\n",
    "\n",
    "# Derived metrics\n",
    "df['LossRatio'] = np.where(df['TotalPremium'] > 0, df['TotalClaims'] / df['TotalPremium'], np.nan)\n",
    "df['Margin'] = df['TotalPremium'] - df['TotalClaims']\n",
    "df['HasClaim'] = (df['TotalClaims'] > 0).astype(int)\n",
    "\n",
    "# View sample\n",
    "df[['Province', 'Gender', 'LossRatio', 'Margin', 'HasClaim']].head()"
   ],
   "id": "af5a9116d52be275",
   "outputs": [],
   "execution_count": null
  },
  {
   "metadata": {},
   "cell_type": "markdown",
   "source": [
    "## Step 1: Hypothesis H1 – Risk Differences Across Provinces\n",
    "\n",
    "- **Null Hypothesis (H1)**: No difference in average Loss Ratio across provinces.\n",
    "- **Metric**: LossRatio (continuous).\n",
    "- **Test**: T-test or ANOVA (if more than two provinces)."
   ],
   "id": "b99ae74aafba314"
  },
  {
   "metadata": {},
   "cell_type": "code",
   "source": [
    "# Group counts\n",
    "province_counts = df['Province'].value_counts()\n",
    "print(province_counts)\n",
    "\n",
    "# Filter provinces with at least 30 policies\n",
    "valid_provinces = province_counts[province_counts >= 30].index.tolist()\n",
    "df_province = df[df['Province'].isin(valid_provinces)]\n",
    "\n",
    "print(\"Filtered provinces:\", valid_provinces)"
   ],
   "id": "c05194f50a67078c",
   "outputs": [],
   "execution_count": null
  },
  {
   "metadata": {},
   "cell_type": "markdown",
   "source": "### Visualize Group Differences",
   "id": "507c399550f565fd"
  },
  {
   "metadata": {},
   "cell_type": "code",
   "source": [
    "import matplotlib.pyplot as plt\n",
    "\n",
    "# Mean LossRatio per province\n",
    "loss_by_province = df_province.groupby('Province')['LossRatio'].mean().sort_values(ascending=False)\n",
    "\n",
    "# Bar plot\n",
    "plt.figure(figsize=(8, 4))\n",
    "loss_by_province.plot(kind='bar', color='coral', edgecolor='black')\n",
    "plt.title('Mean Loss Ratio by Province')\n",
    "plt.ylabel('Mean Loss Ratio')\n",
    "plt.xticks(rotation=45)\n",
    "plt.tight_layout()\n",
    "plt.show()"
   ],
   "id": "3c28326a400baaed",
   "outputs": [],
   "execution_count": null
  },
  {
   "metadata": {},
   "cell_type": "markdown",
   "source": "### Check Normality and Run Anova Test",
   "id": "d4c3ca7dd2f5fca5"
  },
  {
   "metadata": {},
   "cell_type": "code",
   "source": [
    "from scipy.stats import f_oneway\n",
    "\n",
    "# Group LossRatio arrays\n",
    "groups = [group['LossRatio'].dropna() for name, group in df_province.groupby('Province') if len(group) >= 30]\n",
    "\n",
    "# Run ANOVA (1-way)\n",
    "stat, p_value = f_oneway(*groups)\n",
    "print(f\"ANOVA result: F-stat = {stat:.3f}, p-value = {p_value:.4f}\")\n",
    "\n",
    "if p_value < 0.05:\n",
    "    print(\"✅ Reject null hypothesis: significant difference in LossRatio across provinces.\")\n",
    "else:\n",
    "    print(\"❌ Fail to reject null hypothesis: no significant difference found.\")"
   ],
   "id": "729865157f31b35b",
   "outputs": [],
   "execution_count": null
  },
  {
   "metadata": {},
   "cell_type": "markdown",
   "source": [
    "## Step 2: Hypothesis H4 – Risk Differences by Gender\n",
    "\n",
    "### H4a – Claim Frequency\n",
    "- **Null Hypothesis**: Claim frequency is equal for males and females.\n",
    "- **Metric**: HasClaim (binary)\n",
    "- **Test**: Chi-squared test\n",
    "\n",
    "### H4b – Claim Severity\n",
    "- **Null Hypothesis**: Claim severity is equal for males and females.\n",
    "- **Metric**: TotalClaims (for HasClaim == 1)\n",
    "- **Test**: Mann–Whitney U test (non-parametric)"
   ],
   "id": "1ad65765178a6c43"
  },
  {
   "metadata": {},
   "cell_type": "markdown",
   "source": "### Claim Frequency by Gender (Chi-squared)",
   "id": "64521109d76cf696"
  },
  {
   "metadata": {},
   "cell_type": "code",
   "source": [
    "from scipy.stats import chi2_contingency\n",
    "\n",
    "# Build contingency table\n",
    "contingency = pd.crosstab(df['Gender'], df['HasClaim'])\n",
    "print(\"Contingency Table:\\n\", contingency)\n",
    "\n",
    "# Chi-squared test\n",
    "stat, p, dof, expected = chi2_contingency(contingency)\n",
    "\n",
    "print(f\"\\nChi-squared test:\\nChi² = {stat:.3f}, p = {p:.4f}\")\n",
    "if p < 0.05:\n",
    "    print(\"✅ Reject H₀: Claim frequency differs by gender.\")\n",
    "else:\n",
    "    print(\"❌ Fail to reject H₀: No significant difference in claim frequency between genders.\")"
   ],
   "id": "ed30497f222e18ff",
   "outputs": [],
   "execution_count": null
  },
  {
   "metadata": {},
   "cell_type": "markdown",
   "source": "### Claim Severity by Gender (Mann–Whitney)",
   "id": "6d85bddbe78c0837"
  },
  {
   "metadata": {},
   "cell_type": "code",
   "source": [
    "from scipy.stats import mannwhitneyu\n",
    "\n",
    "# Filter to only those who had claims\n",
    "claimants = df[df['HasClaim'] == 1]\n",
    "\n",
    "# Check sample sizes\n",
    "print(claimants['Gender'].value_counts())\n",
    "\n",
    "# Group values\n",
    "male_claims = claimants[claimants['Gender'] == 'Male']['TotalClaims'].dropna()\n",
    "female_claims = claimants[claimants['Gender'] == 'Female']['TotalClaims'].dropna()\n",
    "\n",
    "# Mann–Whitney test\n",
    "stat, p_value = mannwhitneyu(male_claims, female_claims, alternative='two-sided')\n",
    "\n",
    "print(f\"\\nMann–Whitney U test on Claim Severity:\\nU = {stat:.2f}, p = {p_value:.4f}\")\n",
    "if p_value < 0.05:\n",
    "    print(\"✅ Reject H₀: Claim severity differs between genders.\")\n",
    "else:\n",
    "    print(\"❌ Fail to reject H₀: No significant difference in claim severity between genders.\")\n"
   ],
   "id": "7f7defdb58b9b9b6",
   "outputs": [],
   "execution_count": null
  },
  {
   "metadata": {},
   "cell_type": "markdown",
   "source": [
    "### H4a – Claim Frequency (Chi-squared)\n",
    "\n",
    "- **Metric**: HasClaim\n",
    "- **Test**: Chi-squared test\n",
    "- **p-value**: 0.0266\n",
    "- ✅ **Conclusion**: Reject H₀ → Male and female claim frequencies differ.\n",
    "\n",
    "---\n",
    "\n",
    "### H4b – Claim Severity (Mann–Whitney U)\n",
    "\n",
    "- **Metric**: TotalClaims (HasClaim == 1)\n",
    "- **Test**: Mann–Whitney U\n",
    "- **p-value**: 0.2235\n",
    "- ❌ **Conclusion**: Fail to reject H₀ → No strong evidence of difference in claim severity between genders.\n",
    "\n",
    "---\n",
    "\n",
    "**Business Implication**: Gender may influence claim frequency, but not necessarily claim amount. Pricing strategies can account for this, provided it aligns with regulatory fairness.\n"
   ],
   "id": "105fc7a4fa1a9592"
  },
  {
   "metadata": {},
   "cell_type": "markdown",
   "source": [
    "## Step 3: Hypothesis H2 – Loss Ratio Differences by Zip Code\n",
    "\n",
    "- **Null Hypothesis**: Loss Ratio is equal across zip codes.\n",
    "- **Metric**: LossRatio\n",
    "- **Test**: ANOVA or pairwise t-tests (if narrowed to top N zip codes)"
   ],
   "id": "b83ad55993930df0"
  },
  {
   "metadata": {},
   "cell_type": "code",
   "source": [
    "# Zip code distribution\n",
    "zip_counts = df['PostalCode'].value_counts()\n",
    "top_zips = zip_counts[zip_counts >= 30].index.tolist()[:5]  # Top 5 zip codes with ≥30 entries\n",
    "\n",
    "# Filter for top zip codes only\n",
    "df_zip = df[df['PostalCode'].isin(top_zips)]\n",
    "\n",
    "print(\"Top zip codes used:\", top_zips)"
   ],
   "id": "e457f5f12a50a0a9",
   "outputs": [],
   "execution_count": null
  },
  {
   "metadata": {},
   "cell_type": "markdown",
   "source": "### Visualize Loss Ratio By Zip Code",
   "id": "96f06f9b27c615c7"
  },
  {
   "metadata": {},
   "cell_type": "code",
   "source": [
    "import matplotlib.pyplot as plt\n",
    "\n",
    "loss_by_zip = df_zip.groupby('PostalCode')['LossRatio'].mean().sort_values(ascending=False)\n",
    "\n",
    "plt.figure(figsize=(8, 4))\n",
    "loss_by_zip.plot(kind='bar', color='mediumseagreen', edgecolor='black')\n",
    "plt.title('Mean Loss Ratio by Zip Code')\n",
    "plt.ylabel('Mean Loss Ratio')\n",
    "plt.xlabel('Zip Code')\n",
    "plt.tight_layout()\n",
    "plt.show()"
   ],
   "id": "622a84e7cbfd1ffa",
   "outputs": [],
   "execution_count": null
  },
  {
   "metadata": {},
   "cell_type": "markdown",
   "source": "### ANOVA Test",
   "id": "ab18cda237062280"
  },
  {
   "metadata": {},
   "cell_type": "code",
   "source": [
    "from scipy.stats import f_oneway\n",
    "\n",
    "# LossRatio values grouped by zip\n",
    "groups = [g['LossRatio'].dropna() for _, g in df_zip.groupby('PostalCode')]\n",
    "\n",
    "stat, p_value = f_oneway(*groups)\n",
    "print(f\"ANOVA result: F = {stat:.3f}, p = {p_value:.4f}\")\n",
    "\n",
    "if p_value < 0.05:\n",
    "    print(\"✅ Reject H₂: Significant differences in Loss Ratio between zip codes.\")\n",
    "else:\n",
    "    print(\"❌ Fail to reject H₂: No significant difference found.\")"
   ],
   "id": "235803b94ff5bdf7",
   "outputs": [],
   "execution_count": null
  },
  {
   "metadata": {},
   "cell_type": "markdown",
   "source": [
    "### H2 – Loss Ratio by Zip Code (ANOVA)\n",
    "\n",
    "- **Metric**: LossRatio\n",
    "- **Groups**: Top 5 zip codes with ≥30 records\n",
    "- **Test**: One-way ANOVA\n",
    "- **p-value**: 0.0088\n",
    "- ✅ **Conclusion**: Reject H₀ → Loss Ratio varies significantly by zip code.\n",
    "\n",
    "**Implication**: Zip-level segmentation may help fine-tune pricing/risk adjustment."
   ],
   "id": "49887ca5160784d6"
  },
  {
   "metadata": {},
   "cell_type": "markdown",
   "source": [
    "## Step 4: Hypothesis H3 – Margin Differences by Zip Code\n",
    "\n",
    "- **Null Hypothesis**: Average profit margin is the same across zip codes.\n",
    "- **Metric**: Margin (TotalPremium - TotalClaims)\n",
    "- **Test**: One-way ANOVA (same filtered zip codes as in H2)"
   ],
   "id": "370b27cf06a99fbd"
  },
  {
   "metadata": {},
   "cell_type": "markdown",
   "source": "### Margin ANOVA",
   "id": "4bfa4c04fde3c483"
  },
  {
   "metadata": {},
   "cell_type": "code",
   "source": [
    "# Margin grouped by zip\n",
    "groups_margin = [g['Margin'].dropna() for _, g in df_zip.groupby('PostalCode')]\n",
    "\n",
    "# Run ANOVA\n",
    "stat, p_value = f_oneway(*groups_margin)\n",
    "print(f\"ANOVA result (Margin): F = {stat:.3f}, p = {p_value:.4f}\")\n",
    "\n",
    "if p_value < 0.05:\n",
    "    print(\"✅ Reject H₃: Margin differs significantly by zip code.\")\n",
    "else:\n",
    "    print(\"❌ Fail to reject H₃: No significant margin difference across zip codes.\")"
   ],
   "id": "9829740656b6cb3f",
   "outputs": [],
   "execution_count": null
  },
  {
   "metadata": {},
   "cell_type": "markdown",
   "source": [
    "### H3 – Margin by Zip Code (ANOVA)\n",
    "\n",
    "- **Metric**: Margin (TotalPremium – TotalClaims)\n",
    "- **Groups**: Top 5 zip codes with ≥30 records\n",
    "- **Test**: One-way ANOVA\n",
    "- **p-value**: 0.0469\n",
    "- ✅ **Conclusion**: Reject H₀ → No statistically significant margin difference across zip codes.\n",
    "\n",
    "### H2 – Loss Ratio by Zip Code (ANOVA)\n",
    "\n",
    "- **Metric**: LossRatio\n",
    "- **Groups**: Top 5 zip codes with ≥30 records\n",
    "- **Test**: One-way ANOVA\n",
    "- **p-value**: 0.0088\n",
    "- ✅ **Conclusion**: Reject H₀ → Loss Ratio varies significantly by zip code.\n",
    "\n",
    "**Implication**: Zip-level segmentation may help fine-tune pricing/risk adjustment."
   ],
   "id": "b8f3404f4e98c069"
  },
  {
   "metadata": {},
   "cell_type": "markdown",
   "source": "# Hypothesis Tester Class",
   "id": "fdec07ee7a1f077c"
  },
  {
   "metadata": {},
   "cell_type": "code",
   "source": [
    "from scipy.stats import ttest_ind, mannwhitneyu, chi2_contingency, f_oneway\n",
    "\n",
    "class HypothesisTester:\n",
    "    def __init__(self, df):\n",
    "        self.df = df.copy()\n",
    "\n",
    "    def chi_squared_test(self, group_col, binary_col):\n",
    "        \"\"\"\n",
    "        Performs Chi-squared test for independence.\n",
    "        Used for: HasClaim ~ Gender (or categorical groups).\n",
    "        \"\"\"\n",
    "        contingency = pd.crosstab(self.df[group_col], self.df[binary_col])\n",
    "        stat, p, dof, expected = chi2_contingency(contingency)\n",
    "        return {\n",
    "            \"test\": \"Chi-squared\",\n",
    "            \"stat\": stat,\n",
    "            \"p_value\": p,\n",
    "            \"contingency\": contingency\n",
    "        }\n",
    "\n",
    "    def mann_whitney_test(self, group_col, value_col, group1, group2):\n",
    "        \"\"\"\n",
    "        Mann–Whitney U test for skewed continuous data between two groups.\n",
    "        \"\"\"\n",
    "        g1 = self.df[self.df[group_col] == group1][value_col].dropna()\n",
    "        g2 = self.df[self.df[group_col] == group2][value_col].dropna()\n",
    "        stat, p = mannwhitneyu(g1, g2, alternative='two-sided')\n",
    "        return {\n",
    "            \"test\": \"Mann–Whitney U\",\n",
    "            \"group1_median\": g1.median(),\n",
    "            \"group2_median\": g2.median(),\n",
    "            \"stat\": stat,\n",
    "            \"p_value\": p\n",
    "        }\n",
    "\n",
    "    def t_test(self, group_col, value_col, group1, group2):\n",
    "        \"\"\"\n",
    "        Welch’s t-test for difference in means.\n",
    "        \"\"\"\n",
    "        g1 = self.df[self.df[group_col] == group1][value_col].dropna()\n",
    "        g2 = self.df[self.df[group_col] == group2][value_col].dropna()\n",
    "        stat, p = ttest_ind(g1, g2, equal_var=False)\n",
    "        return {\n",
    "            \"test\": \"Welch’s t-test\",\n",
    "            \"group1_mean\": g1.mean(),\n",
    "            \"group2_mean\": g2.mean(),\n",
    "            \"stat\": stat,\n",
    "            \"p_value\": p\n",
    "        }\n",
    "\n",
    "    def anova_test(self, group_col, value_col, min_group_size=30, top_n=None):\n",
    "        \"\"\"\n",
    "        ANOVA for >2 groups, optionally top_n most frequent.\n",
    "        \"\"\"\n",
    "        group_counts = self.df[group_col].value_counts()\n",
    "        valid_groups = group_counts[group_counts >= min_group_size].index\n",
    "\n",
    "        if top_n:\n",
    "            valid_groups = valid_groups[:top_n]\n",
    "\n",
    "        df_filtered = self.df[self.df[group_col].isin(valid_groups)]\n",
    "\n",
    "        groups = [g[value_col].dropna() for _, g in df_filtered.groupby(group_col)]\n",
    "        stat, p = f_oneway(*groups)\n",
    "        return {\n",
    "            \"test\": \"ANOVA\",\n",
    "            \"groups_tested\": list(valid_groups),\n",
    "            \"stat\": stat,\n",
    "            \"p_value\": p\n",
    "        }\n"
   ],
   "id": "ffd411945e3dc4a",
   "outputs": [],
   "execution_count": null
  },
  {
   "metadata": {},
   "cell_type": "markdown",
   "source": "### Testing",
   "id": "676220500760bec0"
  },
  {
   "metadata": {},
   "cell_type": "code",
   "source": [
    "tester = HypothesisTester(df)\n",
    "\n",
    "# H4a: Gender vs HasClaim\n",
    "result_h4a = tester.chi_squared_test('Gender', 'HasClaim')\n",
    "print(result_h4a)\n",
    "\n",
    "# H4b: Gender vs Claim Severity\n",
    "claimants = df[df['HasClaim'] == 1]\n",
    "tester_claims = HypothesisTester(claimants)\n",
    "result_h4b = tester_claims.mann_whitney_test('Gender', 'TotalClaims', 'Male', 'Female')\n",
    "print(result_h4b)\n",
    "\n",
    "# H1: Province vs LossRatio\n",
    "result_h1 = tester.anova_test('Province', 'LossRatio', min_group_size=30)\n",
    "print(result_h1)"
   ],
   "id": "26bf0d7e430fa6a0",
   "outputs": [],
   "execution_count": null
  }
 ],
 "metadata": {
  "kernelspec": {
   "display_name": "Python 3",
   "language": "python",
   "name": "python3"
  },
  "language_info": {
   "codemirror_mode": {
    "name": "ipython",
    "version": 2
   },
   "file_extension": ".py",
   "mimetype": "text/x-python",
   "name": "python",
   "nbconvert_exporter": "python",
   "pygments_lexer": "ipython2",
   "version": "2.7.6"
  }
 },
 "nbformat": 4,
 "nbformat_minor": 5
}
